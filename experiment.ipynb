{
  "nbformat": 4,
  "nbformat_minor": 0,
  "metadata": {
    "colab": {
      "name": "Untitled2.ipynb",
      "version": "0.3.2",
      "provenance": [],
      "collapsed_sections": []
    },
    "kernelspec": {
      "name": "python3",
      "display_name": "Python 3"
    },
    "accelerator": "GPU"
  },
  "cells": [
    {
      "metadata": {
        "id": "LRaTHTddqux-",
        "colab_type": "code",
        "outputId": "360acd02-aa7c-421a-8e0a-70cb2f72a2a8",
        "colab": {
          "base_uri": "https://localhost:8080/",
          "height": 143
        }
      },
      "cell_type": "code",
      "source": [
        "import os\n",
        "\n",
        "from google.colab import drive\n",
        "drive.mount('/content/drive')\n",
        "%cd \"drive/My Drive/Colab Notebooks\""
      ],
      "execution_count": 1,
      "outputs": [
        {
          "output_type": "stream",
          "text": [
          ],
          "name": "stdout"
        }
      ]
    },
    {
      "metadata": {
        "id": "d5p66Q-ZG-Cw",
        "colab_type": "code",
        "colab": {}
      },
      "cell_type": "code",
      "source": [
        "!rm -rf SWEM-chainer"
      ],
      "execution_count": 0,
      "outputs": []
    },
    {
      "metadata": {
        "id": "gAnvw2C4mZFN",
        "colab_type": "code",
        "outputId": "ad3762ff-af05-4cc6-9974-d4bcbcdc335f",
        "colab": {
          "base_uri": "https://localhost:8080/",
          "height": 123
        }
      },
      "cell_type": "code",
      "source": [
        "!git clone https://github.com/koreyou/SWEM-chainer.git"
      ],
      "execution_count": 3,
      "outputs": [
        {
          "output_type": "stream",
          "text": [
            "Cloning into 'SWEM-chainer'...\n",
            "remote: Enumerating objects: 95, done.\u001b[K\n",
            "remote: Counting objects: 100% (95/95), done.\u001b[K\n",
            "remote: Compressing objects: 100% (42/42), done.\u001b[K\n",
            "remote: Total 95 (delta 56), reused 89 (delta 50), pack-reused 0\u001b[K\n",
            "Unpacking objects: 100% (95/95), done.\n"
          ],
          "name": "stdout"
        }
      ]
    },
    {
      "metadata": {
        "id": "ZO5-wXK1mfFE",
        "colab_type": "code",
        "outputId": "7a7dc5ff-5b1e-4a60-ccb5-4b26fa886ac2",
        "colab": {
          "base_uri": "https://localhost:8080/",
          "height": 35
        }
      },
      "cell_type": "code",
      "source": [
        "%cd SWEM-chainer"
      ],
      "execution_count": 4,
      "outputs": [
        {
          "output_type": "stream",
          "text": [
            "/content/drive/My Drive/Colab Notebooks/SWEM-chainer\n"
          ],
          "name": "stdout"
        }
      ]
    },
    {
      "metadata": {
        "id": "CFcWd5qEzbSM",
        "colab_type": "code",
        "colab": {
          "base_uri": "https://localhost:8080/",
          "height": 1391
        },
        "outputId": "02ff9f2d-42f5-4373-c6cc-3e7d2a25298b"
      },
      "cell_type": "code",
      "source": [
        "!wget http://nlp.stanford.edu/software/stanford-corenlp-full-2018-10-05.zip\n",
        "!unzip stanford-corenlp-full-2018-10-05.zip"
      ],
      "execution_count": 15,
      "outputs": [
        {
          "output_type": "stream",
          "text": [
            "--2018-12-16 07:09:47--  http://nlp.stanford.edu/software/stanford-corenlp-full-2018-10-05.zip\n",
            "Resolving nlp.stanford.edu (nlp.stanford.edu)... 171.64.67.140\n",
            "Connecting to nlp.stanford.edu (nlp.stanford.edu)|171.64.67.140|:80... connected.\n",
            "HTTP request sent, awaiting response... 302 Found\n",
            "Location: https://nlp.stanford.edu/software/stanford-corenlp-full-2018-10-05.zip [following]\n",
            "--2018-12-16 07:09:47--  https://nlp.stanford.edu/software/stanford-corenlp-full-2018-10-05.zip\n",
            "Connecting to nlp.stanford.edu (nlp.stanford.edu)|171.64.67.140|:443... connected.\n",
            "HTTP request sent, awaiting response... 200 OK\n",
            "Length: 393239982 (375M) [application/zip]\n",
            "Saving to: ‘stanford-corenlp-full-2018-10-05.zip’\n",
            "\n",
            "stanford-corenlp-fu 100%[===================>] 375.02M  10.8MB/s    in 17s     \n",
            "\n",
            "2018-12-16 07:10:04 (22.4 MB/s) - ‘stanford-corenlp-full-2018-10-05.zip’ saved [393239982/393239982]\n",
            "\n",
            "Archive:  stanford-corenlp-full-2018-10-05.zip\n",
            "   creating: stanford-corenlp-full-2018-10-05/\n",
            "  inflating: stanford-corenlp-full-2018-10-05/jaxb-core-2.3.0.1-sources.jar  \n",
            "  inflating: stanford-corenlp-full-2018-10-05/xom-1.2.10-src.jar  \n",
            "  inflating: stanford-corenlp-full-2018-10-05/CoreNLP-to-HTML.xsl  \n",
            "  inflating: stanford-corenlp-full-2018-10-05/README.txt  \n",
            "  inflating: stanford-corenlp-full-2018-10-05/jollyday-0.4.9-sources.jar  \n",
            "  inflating: stanford-corenlp-full-2018-10-05/LIBRARY-LICENSES  \n",
            "   creating: stanford-corenlp-full-2018-10-05/sutime/\n",
            "  inflating: stanford-corenlp-full-2018-10-05/sutime/british.sutime.txt  \n",
            "  inflating: stanford-corenlp-full-2018-10-05/sutime/defs.sutime.txt  \n",
            "  inflating: stanford-corenlp-full-2018-10-05/sutime/spanish.sutime.txt  \n",
            "  inflating: stanford-corenlp-full-2018-10-05/sutime/english.sutime.txt  \n",
            "  inflating: stanford-corenlp-full-2018-10-05/sutime/english.holidays.sutime.txt  \n",
            " extracting: stanford-corenlp-full-2018-10-05/ejml-0.23-src.zip  \n",
            "  inflating: stanford-corenlp-full-2018-10-05/input.txt.xml  \n",
            "  inflating: stanford-corenlp-full-2018-10-05/build.xml  \n",
            "  inflating: stanford-corenlp-full-2018-10-05/pom.xml  \n",
            "  inflating: stanford-corenlp-full-2018-10-05/stanford-corenlp-3.9.2-javadoc.jar  \n",
            "   creating: stanford-corenlp-full-2018-10-05/tokensregex/\n",
            "  inflating: stanford-corenlp-full-2018-10-05/tokensregex/color.input.txt  \n",
            "  inflating: stanford-corenlp-full-2018-10-05/tokensregex/retokenize.txt  \n",
            "  inflating: stanford-corenlp-full-2018-10-05/tokensregex/color.properties  \n",
            "  inflating: stanford-corenlp-full-2018-10-05/tokensregex/color.rules.txt  \n",
            "  inflating: stanford-corenlp-full-2018-10-05/javax.json-api-1.0-sources.jar  \n",
            "  inflating: stanford-corenlp-full-2018-10-05/jaxb-api-2.4.0-b180830.0359-sources.jar  \n",
            "  inflating: stanford-corenlp-full-2018-10-05/stanford-corenlp-3.9.2-models.jar  \n",
            "  inflating: stanford-corenlp-full-2018-10-05/protobuf.jar  \n",
            "  inflating: stanford-corenlp-full-2018-10-05/javax.activation-api-1.2.0.jar  \n",
            "  inflating: stanford-corenlp-full-2018-10-05/StanfordDependenciesManual.pdf  \n",
            "   creating: stanford-corenlp-full-2018-10-05/patterns/\n",
            "  inflating: stanford-corenlp-full-2018-10-05/patterns/example.properties  \n",
            " extracting: stanford-corenlp-full-2018-10-05/patterns/otherpeople.txt  \n",
            " extracting: stanford-corenlp-full-2018-10-05/patterns/goldplaces.txt  \n",
            "  inflating: stanford-corenlp-full-2018-10-05/patterns/stopwords.txt  \n",
            "  inflating: stanford-corenlp-full-2018-10-05/patterns/presidents.txt  \n",
            "  inflating: stanford-corenlp-full-2018-10-05/patterns/names.txt  \n",
            " extracting: stanford-corenlp-full-2018-10-05/patterns/places.txt  \n",
            "  inflating: stanford-corenlp-full-2018-10-05/patterns/goldnames.txt  \n",
            "  inflating: stanford-corenlp-full-2018-10-05/slf4j-simple.jar  \n",
            "  inflating: stanford-corenlp-full-2018-10-05/stanford-corenlp-3.9.2-sources.jar  \n",
            "  inflating: stanford-corenlp-full-2018-10-05/input.txt  \n",
            "  inflating: stanford-corenlp-full-2018-10-05/joda-time.jar  \n",
            "  inflating: stanford-corenlp-full-2018-10-05/xom.jar  \n",
            "  inflating: stanford-corenlp-full-2018-10-05/jaxb-impl-2.4.0-b180830.0438-sources.jar  \n",
            "  inflating: stanford-corenlp-full-2018-10-05/StanfordCoreNlpDemo.java  \n",
            "  inflating: stanford-corenlp-full-2018-10-05/jaxb-core-2.3.0.1.jar  \n",
            "  inflating: stanford-corenlp-full-2018-10-05/RESOURCE-LICENSES  \n",
            "  inflating: stanford-corenlp-full-2018-10-05/javax.activation-api-1.2.0-sources.jar  \n",
            "  inflating: stanford-corenlp-full-2018-10-05/slf4j-api.jar  \n",
            "  inflating: stanford-corenlp-full-2018-10-05/pom-java-11.xml  \n",
            "  inflating: stanford-corenlp-full-2018-10-05/ejml-0.23.jar  \n",
            "  inflating: stanford-corenlp-full-2018-10-05/javax.json.jar  \n",
            "  inflating: stanford-corenlp-full-2018-10-05/Makefile  \n",
            "  inflating: stanford-corenlp-full-2018-10-05/corenlp.sh  \n",
            "  inflating: stanford-corenlp-full-2018-10-05/joda-time-2.9-sources.jar  \n",
            "  inflating: stanford-corenlp-full-2018-10-05/jaxb-api-2.4.0-b180830.0359.jar  \n",
            "  inflating: stanford-corenlp-full-2018-10-05/jollyday.jar  \n",
            "  inflating: stanford-corenlp-full-2018-10-05/ShiftReduceDemo.java  \n",
            "  inflating: stanford-corenlp-full-2018-10-05/jaxb-impl-2.4.0-b180830.0438.jar  \n",
            "  inflating: stanford-corenlp-full-2018-10-05/stanford-corenlp-3.9.2.jar  \n",
            "  inflating: stanford-corenlp-full-2018-10-05/SemgrexDemo.java  \n",
            "  inflating: stanford-corenlp-full-2018-10-05/LICENSE.txt  \n"
          ],
          "name": "stdout"
        }
      ]
    },
    {
      "metadata": {
        "id": "RlF3thXZQG1c",
        "colab_type": "code",
        "outputId": "905689dd-0b23-4749-c9de-fe6822ab4c26",
        "colab": {
          "base_uri": "https://localhost:8080/",
          "height": 372
        }
      },
      "cell_type": "code",
      "source": [
        "!pip install -r requirements.txt\n",
        "!pip install stanfordcorenlp==3.9.1.1"
      ],
      "execution_count": 16,
      "outputs": [
        {
          "output_type": "stream",
          "text": [
            "Requirement already satisfied: chainer==5.0.0 in /usr/local/lib/python3.6/dist-packages (from -r requirements.txt (line 1)) (5.0.0)\n",
            "Requirement already satisfied: numpy in /usr/local/lib/python3.6/dist-packages (from -r requirements.txt (line 2)) (1.14.6)\n",
            "Requirement already satisfied: pandas in /usr/local/lib/python3.6/dist-packages (from -r requirements.txt (line 3)) (0.22.0)\n",
            "Requirement already satisfied: filelock in /usr/local/lib/python3.6/dist-packages (from chainer==5.0.0->-r requirements.txt (line 1)) (3.0.10)\n",
            "Requirement already satisfied: protobuf>=3.0.0 in /usr/local/lib/python3.6/dist-packages (from chainer==5.0.0->-r requirements.txt (line 1)) (3.6.1)\n",
            "Requirement already satisfied: six>=1.9.0 in /usr/local/lib/python3.6/dist-packages (from chainer==5.0.0->-r requirements.txt (line 1)) (1.11.0)\n",
            "Requirement already satisfied: python-dateutil>=2 in /usr/local/lib/python3.6/dist-packages (from pandas->-r requirements.txt (line 3)) (2.5.3)\n",
            "Requirement already satisfied: pytz>=2011k in /usr/local/lib/python3.6/dist-packages (from pandas->-r requirements.txt (line 3)) (2018.7)\n",
            "Requirement already satisfied: setuptools in /usr/local/lib/python3.6/dist-packages (from protobuf>=3.0.0->chainer==5.0.0->-r requirements.txt (line 1)) (40.6.2)\n",
            "Collecting stanfordcorenlp==3.9.1.1\n",
            "  Downloading https://files.pythonhosted.org/packages/35/cb/0a271890bbe3a77fc1aca2bc3a58b14e11799ea77cb5f7d6fb0a8b4c46fa/stanfordcorenlp-3.9.1.1-py2.py3-none-any.whl\n",
            "Requirement already satisfied: requests in /usr/local/lib/python3.6/dist-packages (from stanfordcorenlp==3.9.1.1) (2.18.4)\n",
            "Requirement already satisfied: psutil in /usr/local/lib/python3.6/dist-packages (from stanfordcorenlp==3.9.1.1) (5.4.8)\n",
            "Requirement already satisfied: chardet<3.1.0,>=3.0.2 in /usr/local/lib/python3.6/dist-packages (from requests->stanfordcorenlp==3.9.1.1) (3.0.4)\n",
            "Requirement already satisfied: certifi>=2017.4.17 in /usr/local/lib/python3.6/dist-packages (from requests->stanfordcorenlp==3.9.1.1) (2018.11.29)\n",
            "Requirement already satisfied: idna<2.7,>=2.5 in /usr/local/lib/python3.6/dist-packages (from requests->stanfordcorenlp==3.9.1.1) (2.6)\n",
            "Requirement already satisfied: urllib3<1.23,>=1.21.1 in /usr/local/lib/python3.6/dist-packages (from requests->stanfordcorenlp==3.9.1.1) (1.22)\n",
            "Installing collected packages: stanfordcorenlp\n",
            "Successfully installed stanfordcorenlp-3.9.1.1\n"
          ],
          "name": "stdout"
        }
      ]
    },
    {
      "metadata": {
        "id": "9edQVRg7Ujzo",
        "colab_type": "code",
        "outputId": "0afebe84-330a-4abd-edd9-1c8650a4f03f",
        "colab": {
          "base_uri": "https://localhost:8080/",
          "height": 281
        }
      },
      "cell_type": "code",
      "source": [
        "!wget http://nlp.stanford.edu/data/glove.840B.300d.zip"
      ],
      "execution_count": 17,
      "outputs": [
        {
          "output_type": "stream",
          "text": [
            "--2018-12-16 07:10:21--  http://nlp.stanford.edu/data/glove.840B.300d.zip\n",
            "Resolving nlp.stanford.edu (nlp.stanford.edu)... 171.64.67.140\n",
            "Connecting to nlp.stanford.edu (nlp.stanford.edu)|171.64.67.140|:80... connected.\n",
            "HTTP request sent, awaiting response... 302 Found\n",
            "Location: https://nlp.stanford.edu/data/glove.840B.300d.zip [following]\n",
            "--2018-12-16 07:10:21--  https://nlp.stanford.edu/data/glove.840B.300d.zip\n",
            "Connecting to nlp.stanford.edu (nlp.stanford.edu)|171.64.67.140|:443... connected.\n",
            "HTTP request sent, awaiting response... 200 OK\n",
            "Length: 2176768927 (2.0G) [application/zip]\n",
            "Saving to: ‘glove.840B.300d.zip’\n",
            "\n",
            "glove.840B.300d.zip 100%[===================>]   2.03G  11.7MB/s    in 2m 35s  \n",
            "\n",
            "2018-12-16 07:12:56 (13.4 MB/s) - ‘glove.840B.300d.zip’ saved [2176768927/2176768927]\n",
            "\n"
          ],
          "name": "stdout"
        }
      ]
    },
    {
      "metadata": {
        "id": "LM1Fo3PTLfGy",
        "colab_type": "code",
        "outputId": "4d561d8a-0161-4c76-deb2-64050881c9c8",
        "colab": {
          "base_uri": "https://localhost:8080/",
          "height": 35
        }
      },
      "cell_type": "code",
      "source": [
        "# should be 2ffafcc9f9ae46fc8c95f32372976137\n",
        "!md5sum glove.840B.300d.zip"
      ],
      "execution_count": 18,
      "outputs": [
        {
          "output_type": "stream",
          "text": [
            "2ffafcc9f9ae46fc8c95f32372976137  glove.840B.300d.zip\n"
          ],
          "name": "stdout"
        }
      ]
    },
    {
      "metadata": {
        "id": "z2R8xdRLmibd",
        "colab_type": "code",
        "outputId": "213f5a13-3c44-4ad1-a557-de3d84ebe02e",
        "colab": {
          "base_uri": "https://localhost:8080/",
          "height": 669
        }
      },
      "cell_type": "code",
      "source": [
        "!bash python train_text_classifier.py -g 0 --word-emb ./glove.840B.300d.zip --stanfordcorenlp ./stanford-corenlp-full-2018-10-05"
      ],
      "execution_count": 19,
      "outputs": [
        {
          "output_type": "stream",
          "text": [
            "{\n",
            "  \"batchsize\": 50,\n",
            "  \"lr\": 0.0002,\n",
            "  \"epoch\": 1000,\n",
            "  \"gpu\": 0,\n",
            "  \"out\": \"result\",\n",
            "  \"unit\": 300,\n",
            "  \"dropout\": 0.2,\n",
            "  \"word_emb\": \"./glove.840B.300d.zip\",\n",
            "  \"stanfordcorenlp\": \"./stanford-corenlp-full-2018-10-05\",\n",
            "  \"window\": 5,\n",
            "  \"dataset\": \"dbpedia\",\n",
            "  \"model\": \"concat\"\n",
            "}\n",
            "Downloading from https://github.com/le-scientifique/torchDatasets/raw/master/dbpedia_csv.tar.gz...\n",
            "read dbpedia\n",
            "constract vocabulary based on frequency\n",
            "load word embedding\n",
            "# train data: 504000\n",
            "# dev data: 56000\n",
            "# test  data: 70000\n",
            "# vocab: 248088\n",
            "# Unk ratio: 0.03578540748030478\n",
            "# class: 14\n",
            "epoch       main/loss   validation/main/loss  main/accuracy  validation/main/accuracy  elapsed_time\n",
            "\u001b[J1           0.212255    0.0720175             0.940081       0.979052                  230.505       \n",
            "\u001b[J2           0.0766109   0.0603027             0.977384       0.982284                  465.143       \n",
            "\u001b[J3           0.0604898   0.0577894             0.982186       0.982998                  702.879       \n",
            "\u001b[J4           0.0506208   0.0545354             0.98542        0.983694                  939.289       \n",
            "\u001b[J5           0.0440032   0.0541593             0.987374       0.984159                  1175.71       \n",
            "\u001b[J6           0.0381052   0.0537785             0.988867       0.984355                  1412.02       \n",
            "\u001b[J7           0.034005    0.0545722             0.99029        0.984069                  1648.02       \n",
            "\u001b[J8           0.0301026   0.0554694             0.991181       0.984462                  1864.01       \n",
            "\u001b[J9           0.0269073   0.0636373             0.992163       0.98273                   2100.64       \n",
            "\u001b[J10          0.0237902   0.0567195             0.993245       0.984104                  2316.62       \n",
            "\u001b[J11          0.0213986   0.0604981             0.993721       0.983837                  2532.55       \n",
            "Accuracy: 0.984886\n"
          ],
          "name": "stdout"
        }
      ]
    },
    {
      "metadata": {
        "id": "rXSCfqLLmmzG",
        "colab_type": "code",
        "colab": {
          "base_uri": "https://localhost:8080/",
          "height": 704
        },
        "outputId": "469e85de-8c43-45fa-826e-7015ca72fa1a"
      },
      "cell_type": "code",
      "source": [
        "!bash python train_text_classifier.py -g 0 --model hier --word-emb ./glove.840B.300d.zip --stanfordcorenlp ./stanford-corenlp-full-2018-10-05"
      ],
      "execution_count": 20,
      "outputs": [
        {
          "output_type": "stream",
          "text": [
            "{\n",
            "  \"batchsize\": 50,\n",
            "  \"lr\": 0.0002,\n",
            "  \"epoch\": 1000,\n",
            "  \"gpu\": 0,\n",
            "  \"out\": \"result\",\n",
            "  \"unit\": 300,\n",
            "  \"dropout\": 0.2,\n",
            "  \"word_emb\": \"./glove.840B.300d.zip\",\n",
            "  \"stanfordcorenlp\": \"./stanford-corenlp-full-2018-10-05\",\n",
            "  \"window\": 5,\n",
            "  \"dataset\": \"dbpedia\",\n",
            "  \"model\": \"hier\"\n",
            "}\n",
            "read dbpedia\n",
            "constract vocabulary based on frequency\n",
            "load word embedding\n",
            "# train data: 504000\n",
            "# dev data: 56000\n",
            "# test  data: 70000\n",
            "# vocab: 248088\n",
            "# Unk ratio: 0.03578540748030478\n",
            "# class: 14\n",
            "epoch       main/loss   validation/main/loss  main/accuracy  validation/main/accuracy  elapsed_time\n",
            "\u001b[J1           0.355345    0.0956236             0.899397       0.972212                  223.459       \n",
            "\u001b[J2           0.12696     0.0746328             0.961389       0.97832                   465.002       \n",
            "\u001b[J3           0.0962705   0.0653986             0.971377       0.980927                  706.262       \n",
            "\u001b[J4           0.0798828   0.059609              0.976363       0.982284                  947.23        \n",
            "\u001b[J5           0.0692151   0.0578598             0.97964        0.982515                  1188.32       \n",
            "\u001b[J6           0.0614776   0.0552628             0.982042       0.983319                  1430.45       \n",
            "\u001b[J7           0.0552559   0.0528361             0.984071       0.984194                  1672.38       \n",
            "\u001b[J8           0.0509839   0.0520386             0.98523        0.984319                  1914.08       \n",
            "\u001b[J9           0.0465336   0.0509667             0.986485       0.985122                  2156.28       \n",
            "\u001b[J10          0.0431072   0.0510471             0.987401       0.985266                  2398.37       \n",
            "\u001b[J11          0.0401481   0.0488783             0.988213       0.985855                  2640.38       \n",
            "\u001b[J12          0.0368335   0.0497355             0.989201       0.985623                  2882.25       \n",
            "\u001b[J13          0.0346717   0.0516785             0.989897       0.985176                  3103.44       \n",
            "\u001b[J14          0.0325155   0.0493417             0.990531       0.985855                  3324.62       \n",
            "Accuracy: 0.985943\n"
          ],
          "name": "stdout"
        }
      ]
    },
    {
      "metadata": {
        "id": "z4z00pRdmw_N",
        "colab_type": "text"
      },
      "cell_type": "markdown",
      "source": [
        "I trained GloVe vectors on DBPedia and uploaded it via Google Drive.\n",
        "So, the rest of the code does not run as is."
      ]
    },
    {
      "metadata": {
        "id": "NpKrkG5sJmF3",
        "colab_type": "code",
        "colab": {
          "base_uri": "https://localhost:8080/",
          "height": 651
        },
        "outputId": "dd489320-7ebe-4652-aa54-b8bb93dbc2db"
      },
      "cell_type": "code",
      "source": [
        "!bash python train_text_classifier.py -g 0 --model concat --word-emb ./glove-dbpedia-300d.txt --stanfordcorenlp ./stanford-corenlp-full-2018-10-05"
      ],
      "execution_count": 21,
      "outputs": [
        {
          "output_type": "stream",
          "text": [
            "{\n",
            "  \"batchsize\": 50,\n",
            "  \"lr\": 0.0002,\n",
            "  \"epoch\": 1000,\n",
            "  \"gpu\": 0,\n",
            "  \"out\": \"result\",\n",
            "  \"unit\": 300,\n",
            "  \"dropout\": 0.2,\n",
            "  \"word_emb\": \"./glove-dbpedia-300d.txt\",\n",
            "  \"stanfordcorenlp\": \"./stanford-corenlp-full-2018-10-05\",\n",
            "  \"window\": 5,\n",
            "  \"dataset\": \"dbpedia\",\n",
            "  \"model\": \"concat\"\n",
            "}\n",
            "read dbpedia\n",
            "constract vocabulary based on frequency\n",
            "load word embedding\n",
            "# train data: 504000\n",
            "# dev data: 56000\n",
            "# test  data: 70000\n",
            "# vocab: 139744\n",
            "# Unk ratio: 0.0691508166502903\n",
            "# class: 14\n",
            "epoch       main/loss   validation/main/loss  main/accuracy  validation/main/accuracy  elapsed_time\n",
            "\u001b[J1           0.261406    0.084449              0.922397       0.975392                  203.659       \n",
            "\u001b[J2           0.095744    0.0726889             0.971525       0.978819                  419.191       \n",
            "\u001b[J3           0.0743684   0.0615544             0.978072       0.982409                  632.57        \n",
            "\u001b[J4           0.0625585   0.0616447             0.981936       0.981891                  847.146       \n",
            "\u001b[J5           0.0546244   0.0566325             0.984258       0.983248                  1049.49       \n",
            "\u001b[J6           0.0486506   0.0568545             0.986005       0.983462                  1264.28       \n",
            "\u001b[J7           0.0430492   0.0542474             0.987514       0.984194                  1479.46       \n",
            "\u001b[J8           0.0392101   0.0540127             0.988762       0.984623                  1693.98       \n",
            "\u001b[J9           0.0354444   0.0564158             0.989812       0.983926                  1907.51       \n",
            "\u001b[J10          0.0323323   0.0557375             0.990649       0.983944                  2109.59       \n",
            "\u001b[J11          0.0297252   0.0563098             0.991476       0.984408                  2311.28       \n",
            "Accuracy: 0.985057\n"
          ],
          "name": "stdout"
        }
      ]
    },
    {
      "metadata": {
        "id": "KSSKzn2FnET2",
        "colab_type": "code",
        "colab": {
          "base_uri": "https://localhost:8080/",
          "height": 35
        },
        "outputId": "fc9922b6-8e51-4e3e-c64e-e6ed721a91e7"
      },
      "cell_type": "code",
      "source": [
        "!bash python train_text_classifier.py -g 0 --model hier --word-emb ./glove-dbpedia-300d.txt --stanfordcorenlp ./stanford-corenlp-full-2018-10-05"
      ],
      "execution_count": 1,
      "outputs": [
        {
          "output_type": "stream",
          "text": [
            "python3: can't open file 'train_text_classifier.py': [Errno 2] No such file or directory\n"
          ],
          "name": "stdout"
        }
      ]
    },
    {
      "metadata": {
        "id": "bt__RoXdnylR",
        "colab_type": "code",
        "colab": {}
      },
      "cell_type": "code",
      "source": [
        ""
      ],
      "execution_count": 0,
      "outputs": []
    }
  ]
}